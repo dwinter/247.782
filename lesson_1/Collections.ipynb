{
 "cells": [
  {
   "cell_type": "markdown",
   "metadata": {},
   "source": [
    "# Collections of things\n",
    "\n",
    "From your experience with R and the little bit of python you've done you already know a bit about the core types of objects (e.g. integers, floats and strings). And playing with Biopython you've found some of the custom classes (like the `SeqRecord` object). This lesson is abuot how to collect up items.\n",
    "\n",
    "## Lists (collecting random assortsments of stuff)\n",
    "\n",
    "Lists are the general purpose collection of any combination of tiems (inlike an  R vector there is no requirement that items be of the same type). Check out [SW Carpentry for the basic intro](https://swcarpentry.github.io/python-novice-inflammation/05-lists/index.html). Here we'll show how to record information from biological data. For instance, let's read in our fastq file...\n"
   ]
  },
  {
   "cell_type": "code",
   "execution_count": 21,
   "metadata": {},
   "outputs": [],
   "source": [
    "from Bio import SeqIO\n",
    "\n",
    "recs = SeqIO.parse(\"../first_task/reads.fq\", \"fastq\")"
   ]
  },
  {
   "cell_type": "markdown",
   "metadata": {},
   "source": [
    ".. and now record the length of each sequence in the object. To do this we will start by making an empty list (using the square brackey syntax `[]`) and iterate through the list, recording the length of each one then appending it to the list"
   ]
  },
  {
   "cell_type": "code",
   "execution_count": 25,
   "metadata": {},
   "outputs": [
    {
     "data": {
      "text/plain": [
       "[100, 100, 100, 100, 100, 100, 100, 100, 100, 100]"
      ]
     },
     "execution_count": 25,
     "metadata": {},
     "output_type": "execute_result"
    }
   ],
   "source": [
    "recs = SeqIO.parse(\"../first_task/reads.fq\", \"fastq\")\n",
    "seq_lens = []\n",
    "for seq in recs:\n",
    "    this_ones_length = len(seq)\n",
    "    seq_lens.append(this_ones_length)\n",
    "seq_lens"
   ]
  },
  {
   "cell_type": "markdown",
   "metadata": {},
   "source": [
    "Starting an empty list at appending to it is a very common idiom in a lot of languages, but in python there is an alternative called a list comprehension. This replaces the code above with a single line. It is up to you if you prefer the list comprehension or for-loop syntax"
   ]
  },
  {
   "cell_type": "code",
   "execution_count": 27,
   "metadata": {},
   "outputs": [
    {
     "data": {
      "text/plain": [
       "[100, 100, 100, 100, 100, 100, 100, 100, 100, 100]"
      ]
     },
     "execution_count": 27,
     "metadata": {},
     "output_type": "execute_result"
    }
   ],
   "source": [
    "recs = SeqIO.parse(\"../first_task/reads.fq\", \"fastq\")\n",
    "[len(seq) for seq in recs]"
   ]
  },
  {
   "cell_type": "markdown",
   "metadata": {},
   "source": [
    "## dictionaries (storing things to look up later)\n",
    "\n",
    "Dictonaries are a way to store some information in a way you can look it up later. Say you want to remember when people won their nobel prizes for some reason. Here's how you'd make a dictoinary  to look that up. The syntax here is `key :  value` where key can be used to retrieve a value. Values can be almost any data type, while keys need to be 'hashable'... which is a concet for later!\n"
   ]
  },
  {
   "cell_type": "code",
   "execution_count": 34,
   "metadata": {},
   "outputs": [],
   "source": [
    "nobel_dict = {\"McClintock\": 1983, \"Lederberg\": 1958, \"Delbrück\": 1969}"
   ]
  },
  {
   "cell_type": "markdown",
   "metadata": {},
   "source": [
    "To retrive a value you use square backets with the key"
   ]
  },
  {
   "cell_type": "code",
   "execution_count": 35,
   "metadata": {},
   "outputs": [
    {
     "data": {
      "text/plain": [
       "1983"
      ]
     },
     "execution_count": 35,
     "metadata": {},
     "output_type": "execute_result"
    }
   ],
   "source": [
    "nobel_dict[\"McClintock\"]"
   ]
  },
  {
   "cell_type": "markdown",
   "metadata": {},
   "source": [
    "Let's use a dictionary to store our sequencing reads to look up later. This example uses the other syntax for buliding a dictoinary, assigning a given value to a key using the square bracket notation."
   ]
  },
  {
   "cell_type": "code",
   "execution_count": 38,
   "metadata": {},
   "outputs": [
    {
     "data": {
      "text/plain": [
       "{'JpRwMsVW': SeqRecord(seq=Seq('ATGGCATCACCGTCACCACCAGGGGAGGCGTCGCCTGCGCAGCGCACCACCGTC...CCC', SingleLetterAlphabet()), id='JpRwMsVW', name='JpRwMsVW', description='JpRwMsVW', dbxrefs=[]),\n",
       " 'LISzqTNF': SeqRecord(seq=Seq('ATGGCATCAGCGTCACCACCAGGGGACGCGTCGCCTGCGCAGCGCACCACCGTC...CCC', SingleLetterAlphabet()), id='LISzqTNF', name='LISzqTNF', description='LISzqTNF', dbxrefs=[]),\n",
       " 'QevuyjfB': SeqRecord(seq=Seq('ATGGCAGCACCGTCACCACCAGGGGACGCGTCGCCTGCGCAGCGCACCACCGTC...CCC', SingleLetterAlphabet()), id='QevuyjfB', name='QevuyjfB', description='QevuyjfB', dbxrefs=[]),\n",
       " 'WdkVXRjQ': SeqRecord(seq=Seq('ATGGCATCACCGTCACCACCAGGGGACGCGTCGCCTGCGCAGCGCACCACCGTC...CCC', SingleLetterAlphabet()), id='WdkVXRjQ', name='WdkVXRjQ', description='WdkVXRjQ', dbxrefs=[]),\n",
       " 'ZFbfxWsl': SeqRecord(seq=Seq('ATGGCATCACCGTCACCACCAGGGGACGCGTCGCCTGCGCAGCGCACCACCGTC...CCC', SingleLetterAlphabet()), id='ZFbfxWsl', name='ZFbfxWsl', description='ZFbfxWsl', dbxrefs=[]),\n",
       " 'agoPnkEt': SeqRecord(seq=Seq('ATGGCATCACCGTCACCACCAGGGGACGCGTCGCCTGCGCAGCGCACCACCGTC...CCC', SingleLetterAlphabet()), id='agoPnkEt', name='agoPnkEt', description='agoPnkEt', dbxrefs=[]),\n",
       " 'hbVLHucP': SeqRecord(seq=Seq('ATGGCATCACCGTCACCACCAGGGGACGCGTCGCTTGCGCAGCGCACCACCGTC...CCC', SingleLetterAlphabet()), id='hbVLHucP', name='hbVLHucP', description='hbVLHucP', dbxrefs=[]),\n",
       " 'igcJNbKn': SeqRecord(seq=Seq('ATGGCATCACCGTCACCACCAGGGGACGCGTCGCCTGCGCAGCGCACCACCGTC...CCC', SingleLetterAlphabet()), id='igcJNbKn', name='igcJNbKn', description='igcJNbKn', dbxrefs=[]),\n",
       " 'vIBqXDxb': SeqRecord(seq=Seq('ATCGCATCACCGTCACCACCAGGGGACGCGTCGCCTGCGCAGCGCACCACCGTC...CCC', SingleLetterAlphabet()), id='vIBqXDxb', name='vIBqXDxb', description='vIBqXDxb', dbxrefs=[]),\n",
       " 'vMOiXKcw': SeqRecord(seq=Seq('ATGGCATCACCGTCACCACCAGGGGACGCGTCGCCTGCGCAGCGCACCACCGTC...CCC', SingleLetterAlphabet()), id='vMOiXKcw', name='vMOiXKcw', description='vMOiXKcw', dbxrefs=[])}"
      ]
     },
     "execution_count": 38,
     "metadata": {},
     "output_type": "execute_result"
    }
   ],
   "source": [
    "seq_dict = {} # or dict() to intialize an emp\n",
    "recs = SeqIO.parse(\"../first_task/reads.fq\", \"fastq\")\n",
    "for seq in recs:\n",
    "    seq_dict[ seq.id ] = seq\n",
    "seq_dict\n"
   ]
  },
  {
   "cell_type": "markdown",
   "metadata": {},
   "source": [
    "To look up a given sequence we use teh square brackets again"
   ]
  },
  {
   "cell_type": "code",
   "execution_count": 39,
   "metadata": {},
   "outputs": [
    {
     "data": {
      "text/plain": [
       "SeqRecord(seq=Seq('ATGGCATCACCGTCACCACCAGGGGAGGCGTCGCCTGCGCAGCGCACCACCGTC...CCC', SingleLetterAlphabet()), id='JpRwMsVW', name='JpRwMsVW', description='JpRwMsVW', dbxrefs=[])"
      ]
     },
     "execution_count": 39,
     "metadata": {},
     "output_type": "execute_result"
    }
   ],
   "source": [
    "seq_dict['JpRwMsVW']"
   ]
  },
  {
   "cell_type": "markdown",
   "metadata": {},
   "source": [
    "## Other collections\n",
    "\n",
    "The other collections you might run into are tuples (like lists but the values can't be overwritten once formed), and sets (like mathmatical sets, so you can do operatoins like union and intersect). You probably won't need these often. There is also a whole collection of collections in the module... collections. One of them, `Counter` is quite useful for... counting things\n"
   ]
  },
  {
   "cell_type": "code",
   "execution_count": 45,
   "metadata": {},
   "outputs": [
    {
     "data": {
      "text/plain": [
       "Counter({'A': 4, 'B': 2, 'C': 1})"
      ]
     },
     "execution_count": 45,
     "metadata": {},
     "output_type": "execute_result"
    }
   ],
   "source": [
    "from collections import Counter\n",
    "a_list = [\"A\", \"A\", \"B\", \"A\", \"C\", \"B\", \"A\"]\n",
    "freqs = Counter(a_list)\n",
    "freqs"
   ]
  },
  {
   "cell_type": "code",
   "execution_count": 46,
   "metadata": {},
   "outputs": [
    {
     "data": {
      "text/plain": [
       "4"
      ]
     },
     "execution_count": 46,
     "metadata": {},
     "output_type": "execute_result"
    }
   ],
   "source": [
    "freqs[\"A\"]"
   ]
  },
  {
   "cell_type": "code",
   "execution_count": null,
   "metadata": {},
   "outputs": [],
   "source": []
  }
 ],
 "metadata": {
  "kernelspec": {
   "display_name": "Python 3",
   "language": "python",
   "name": "python3"
  },
  "language_info": {
   "codemirror_mode": {
    "name": "ipython",
    "version": 3
   },
   "file_extension": ".py",
   "mimetype": "text/x-python",
   "name": "python",
   "nbconvert_exporter": "python",
   "pygments_lexer": "ipython3",
   "version": "3.6.9"
  }
 },
 "nbformat": 4,
 "nbformat_minor": 2
}
