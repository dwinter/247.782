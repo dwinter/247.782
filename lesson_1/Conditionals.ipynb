{
 "cells": [
  {
   "cell_type": "markdown",
   "metadata": {},
   "source": [
    "# Making decisions (if, else and elif)\n",
    "\n",
    "One essential part of any programming language \"condtional statements\", more or less the ability to choose when and how to exectute a block of code. In Python, the `if` statement is responsible fo this:"
   ]
  },
  {
   "cell_type": "code",
   "execution_count": 1,
   "metadata": {},
   "outputs": [
    {
     "name": "stdout",
     "output_type": "stream",
     "text": [
      "It's signficant\n"
     ]
    }
   ],
   "source": [
    "pval = 0.02\n",
    "if pval < 0.05:\n",
    "    print(\"It's signficant\")"
   ]
  },
  {
   "cell_type": "markdown",
   "metadata": {},
   "source": [
    "You can also use `else` inside a block to do something if the conditoin is not true"
   ]
  },
  {
   "cell_type": "code",
   "execution_count": 2,
   "metadata": {},
   "outputs": [
    {
     "name": "stdout",
     "output_type": "stream",
     "text": [
      "It's not significant\n"
     ]
    }
   ],
   "source": [
    "pval = 0.07\n",
    "if pval < 0.05:\n",
    "    print(\"It's signficant\")\n",
    "else:\n",
    "    print(\"It's not significant\")"
   ]
  },
  {
   "cell_type": "markdown",
   "metadata": {},
   "source": [
    "As before, software carpentry has a [nice lesson on conditionals](https://swcarpentry.github.io/python-novice-gapminder/17-conditionals/) so we'll focus on biological examples here. \n",
    "\n",
    "Conditional statements are often used inside a for-loop to handle treat each element differently. Let's use the sequencing data as an example. The ids of these sequences are random letters, so let's imagine we were interested in only those reads with an ID starting with lower cases letters. We can use the `islower()` method to test that the first letter of the ID lower case. then print only those IDs"
   ]
  },
  {
   "cell_type": "code",
   "execution_count": 3,
   "metadata": {},
   "outputs": [
    {
     "name": "stdout",
     "output_type": "stream",
     "text": [
      "agoPnkEt\n",
      "vMOiXKcw\n",
      "vIBqXDxb\n",
      "igcJNbKn\n",
      "hbVLHucP\n"
     ]
    }
   ],
   "source": [
    "from Bio import SeqIO\n",
    "reads = SeqIO.parse(\"../first_task/reads.fq\", \"fastq\")\n",
    "for seq in reads:\n",
    "    first_letter = seq.id[0]\n",
    "    if first_letter.islower():\n",
    "        print(seq.id)"
   ]
  },
  {
   "cell_type": "markdown",
   "metadata": {},
   "source": [
    "Using `else` we could print all the IDs, noting whether they start with lower case"
   ]
  },
  {
   "cell_type": "code",
   "execution_count": 4,
   "metadata": {},
   "outputs": [
    {
     "name": "stdout",
     "output_type": "stream",
     "text": [
      "agoPnkEt starts with lowercase\n",
      "vMOiXKcw starts with lowercase\n",
      "LISzqTNF starts with uppercase\n",
      "vIBqXDxb starts with lowercase\n",
      "QevuyjfB starts with uppercase\n",
      "WdkVXRjQ starts with uppercase\n",
      "igcJNbKn starts with lowercase\n",
      "ZFbfxWsl starts with uppercase\n",
      "hbVLHucP starts with lowercase\n",
      "JpRwMsVW starts with uppercase\n"
     ]
    }
   ],
   "source": [
    "from Bio import SeqIO\n",
    "reads = SeqIO.parse(\"../first_task/reads.fq\", \"fastq\")\n",
    "for seq in reads:\n",
    "    first_letter = seq.id[0]\n",
    "    if first_letter.islower():\n",
    "        print(seq.id, \"starts with lowercase\")\n",
    "    else:\n",
    "        print(seq.id, \"starts with uppercase\")\n"
   ]
  },
  {
   "cell_type": "markdown",
   "metadata": {},
   "source": [
    "## Counting a condition\n",
    "\n",
    "One very useful thing way to use conditionals is to count the number of times something occurs. In Epichloe, we are interested in the GC-content of sequences, so how might we find the GC-content of the reference sequence in this repo? A SequenceRecord object is iterable (i.e. we cn use a for loop to traverse it) so we can loop over the sequence and add to a counter every time we see a \"C\" or \"G\" base."
   ]
  },
  {
   "cell_type": "code",
   "execution_count": 5,
   "metadata": {},
   "outputs": [
    {
     "name": "stdout",
     "output_type": "stream",
     "text": [
      "72 total G/C bases( 72.0 % )\n"
     ]
    }
   ],
   "source": [
    "ref = SeqIO.read(\"../first_task/reference.fna\", \"fasta\")\n",
    "# initialize the counter before the loop so there is someting to refer to later\n",
    "counter = 0\n",
    "\n",
    "for base in ref:\n",
    "    if base == \"C\":\n",
    "        counter = counter + 1\n",
    "    elif base == \"G\": #elif equals else: if, see the SW lesson\n",
    "        counter = counter + 1\n",
    "\n",
    "print(counter, \"total G/C bases(\", counter/len(ref) * 100, \"% )\")            \n",
    "    "
   ]
  },
  {
   "cell_type": "markdown",
   "metadata": {},
   "source": [
    "### extra for experts\n",
    "\n",
    "The code above works, but there are a few tricks we can use to make it a bit nicer. For one, there is a special operator `+=` for incrementing (that is adding to) to a number. There is also a nicer way to format strings that the print statements at the end. If you areally want to go deep, can you re-implement this with collections.Counter?"
   ]
  },
  {
   "cell_type": "code",
   "execution_count": 6,
   "metadata": {},
   "outputs": [
    {
     "name": "stdout",
     "output_type": "stream",
     "text": [
      "72 total G/C bases (72.0%)\n"
     ]
    }
   ],
   "source": [
    "counter = 0\n",
    "\n",
    "for base in ref:\n",
    "    if base == \"C\":\n",
    "        counter  +=1 \n",
    "    elif base == \"G\": \n",
    "        counter  += 1\n",
    "\n",
    "print(f'{counter} total G/C bases ({counter/len(ref) * 100}%)')\n"
   ]
  },
  {
   "cell_type": "markdown",
   "metadata": {},
   "source": [
    "## Finding the index of a condition\n",
    "\n",
    "Sometimes you want to know _which_ elements in a list or sequence meet some criterion, so you can match them up to indices in another list or object. Imagine you had two lists, one with lables for four samples and another with the sizes of those samples _in the same order_. "
   ]
  },
  {
   "cell_type": "code",
   "execution_count": 7,
   "metadata": {},
   "outputs": [],
   "source": [
    "samples = [\"A\", \"B\", \"C\", \"D\"]\n",
    "sizes =   [100, 125, 300,  40]"
   ]
  },
  {
   "cell_type": "markdown",
   "metadata": {},
   "source": [
    "How might you select those samples with size > 100? One calssic way is to intialize a counter that you increment through every step of the for loop:"
   ]
  },
  {
   "cell_type": "code",
   "execution_count": 8,
   "metadata": {},
   "outputs": [
    {
     "name": "stdout",
     "output_type": "stream",
     "text": [
      "B : 125\n",
      "C : 300\n"
     ]
    }
   ],
   "source": [
    "i = 0\n",
    "for sample_size in sizes:\n",
    "    if sample_size > 100:\n",
    "        print(samples[i], \":\", sample_size)\n",
    "    i += 1"
   ]
  },
  {
   "cell_type": "markdown",
   "metadata": {},
   "source": [
    "Theat works, but there are a few more \"pythonic\" ways to get the same result. `enumerate` gives you the counter for free. "
   ]
  },
  {
   "cell_type": "code",
   "execution_count": 9,
   "metadata": {},
   "outputs": [
    {
     "name": "stdout",
     "output_type": "stream",
     "text": [
      "(0, 100)\n",
      "(1, 125)\n",
      "(2, 300)\n",
      "(3, 40)\n"
     ]
    }
   ],
   "source": [
    "for pair in enumerate(sizes):\n",
    "    print(pair)"
   ]
  },
  {
   "cell_type": "markdown",
   "metadata": {},
   "source": [
    "Because iterating over the generator produces by `enumerate`  give sus tuples of length two, we can assign each element a name in the for loop using the comma to seperate them"
   ]
  },
  {
   "cell_type": "code",
   "execution_count": 10,
   "metadata": {},
   "outputs": [
    {
     "name": "stdout",
     "output_type": "stream",
     "text": [
      "0 : 100\n",
      "1 : 125\n",
      "2 : 300\n",
      "3 : 40\n"
     ]
    }
   ],
   "source": [
    "for index, sample_size in enumerate(sizes):\n",
    "    print(index, \":\", sample_size)"
   ]
  },
  {
   "cell_type": "markdown",
   "metadata": {},
   "source": [
    "Finally, we can use the index to look up the sample name "
   ]
  },
  {
   "cell_type": "code",
   "execution_count": 11,
   "metadata": {},
   "outputs": [
    {
     "name": "stdout",
     "output_type": "stream",
     "text": [
      "B : 125\n",
      "C : 300\n"
     ]
    }
   ],
   "source": [
    "for index,sample_size in enumerate(sizes):\n",
    "    if sample_size > 100:\n",
    "        print(samples[index], \":\", sample_size)\n"
   ]
  },
  {
   "cell_type": "markdown",
   "metadata": {},
   "source": [
    "### Skipping the index \n",
    "\n",
    "The even more pythonic thing to do is never keep track of the index in the first place. The function `zip` takes take iterables and \"zips\" them up "
   ]
  },
  {
   "cell_type": "code",
   "execution_count": 12,
   "metadata": {},
   "outputs": [
    {
     "name": "stdout",
     "output_type": "stream",
     "text": [
      "('A', 100)\n",
      "('B', 125)\n",
      "('C', 300)\n",
      "('D', 40)\n"
     ]
    }
   ],
   "source": [
    "for pair in zip(samples, sizes):\n",
    "    print(pair)"
   ]
  },
  {
   "cell_type": "markdown",
   "metadata": {},
   "source": [
    "meaning you can print only the large samples easily"
   ]
  },
  {
   "cell_type": "code",
   "execution_count": 13,
   "metadata": {},
   "outputs": [
    {
     "name": "stdout",
     "output_type": "stream",
     "text": [
      "B : 125\n",
      "C : 300\n"
     ]
    }
   ],
   "source": [
    "for sample, sample_size in zip(samples, sizes):\n",
    "    if sample_size > 100:\n",
    "        print(sample, \":\", sample_size)"
   ]
  },
  {
   "cell_type": "code",
   "execution_count": null,
   "metadata": {},
   "outputs": [],
   "source": []
  }
 ],
 "metadata": {
  "kernelspec": {
   "display_name": "Python 3",
   "language": "python",
   "name": "python3"
  },
  "language_info": {
   "codemirror_mode": {
    "name": "ipython",
    "version": 3
   },
   "file_extension": ".py",
   "mimetype": "text/x-python",
   "name": "python",
   "nbconvert_exporter": "python",
   "pygments_lexer": "ipython3",
   "version": "3.6.9"
  }
 },
 "nbformat": 4,
 "nbformat_minor": 2
}
